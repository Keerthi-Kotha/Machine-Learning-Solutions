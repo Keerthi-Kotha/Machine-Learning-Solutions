{
 "cells": [
  {
   "cell_type": "code",
   "execution_count": 5,
   "id": "9a98aa18",
   "metadata": {},
   "outputs": [],
   "source": [
    "import tkinter as tk"
   ]
  },
  {
   "cell_type": "code",
   "execution_count": 6,
   "id": "0696b038",
   "metadata": {},
   "outputs": [],
   "source": [
    "window = tk.Tk()"
   ]
  },
  {
   "cell_type": "code",
   "execution_count": 7,
   "id": "b43b2c67",
   "metadata": {},
   "outputs": [],
   "source": [
    "window.mainloop()"
   ]
  },
  {
   "cell_type": "code",
   "execution_count": 8,
   "id": "bc92638c",
   "metadata": {},
   "outputs": [],
   "source": [
    "import tkinter as tk\n",
    "window = tk.Tk()\n",
    "window.title(\"pythonexample\")\n",
    "label = tk.Label(window, text=\"Hello world!\")\n",
    "label.pack()\n",
    "window.mainloop()"
   ]
  },
  {
   "cell_type": "code",
   "execution_count": 12,
   "id": "ffd28eeb",
   "metadata": {},
   "outputs": [],
   "source": [
    "from tkinter import *\n",
    "from tkinter import messagebox\n",
    "import pymysql \n",
    "def Ok():\n",
    "    studname = e1.get()\n",
    "    coursename = e2.get()\n",
    "    fee= e3.get()\n",
    "    \n",
    "    try:\n",
    "        mysqldb = pymysql.connect(host=\"localhost\",user=\"root\",password=\"123456\",database=\"vizag\")\n",
    "        mycursor = mysqldb.cursor()\n",
    "        sql = \"INSERT INTO record(stname,course,fee) VALUES(%s,%s,%s)\"\n",
    "        val = (studname,coursename,fee)\n",
    "        mycursor.execute(sql, val)\n",
    "        mysqldb.commit()\n",
    "        messagebox.showinfo(\"infromation\",\"Record inserted successfully...\")\n",
    "        mysqldb.close()\n",
    "    except Exception as e:\n",
    "        print(e)\n",
    "        messagebox.showerror(\"Error\", \"Error inserting record\")\n",
    "        mysqldb.rollback()\n",
    "        mysqldb.close()\n",
    "root = Tk()\n",
    "root.title(\"Student Registration\")\n",
    "root.geometry(\"300x200\")\n",
    "Label(root,text=\"student name\").place(x=10,y=10)\n",
    "Label(root,text=\"course\").place(x=10,y=40)\n",
    "Label(root,text=\"Fee\").place(x=10,y=80)\n",
    "e1 = Entry(root)\n",
    "e1.place(x=140, y=10)\n",
    "e2 = Entry(root)\n",
    "e2.place(x=140, y=40)\n",
    "e3 = Entry(root)\n",
    "e3.place(x=140, y=80)\n",
    "Button(root, text=\"Add\",command=Ok,height=3,width=13).place(x=10,y=120)\n",
    "root=mainloop()"
   ]
  },
  {
   "cell_type": "code",
   "execution_count": null,
   "id": "7943cc1d",
   "metadata": {},
   "outputs": [],
   "source": []
  }
 ],
 "metadata": {
  "kernelspec": {
   "display_name": "Python 3 (ipykernel)",
   "language": "python",
   "name": "python3"
  },
  "language_info": {
   "codemirror_mode": {
    "name": "ipython",
    "version": 3
   },
   "file_extension": ".py",
   "mimetype": "text/x-python",
   "name": "python",
   "nbconvert_exporter": "python",
   "pygments_lexer": "ipython3",
   "version": "3.11.5"
  }
 },
 "nbformat": 4,
 "nbformat_minor": 5
}
